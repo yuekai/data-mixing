{
 "cells": [
  {
   "cell_type": "markdown",
   "id": "f31a8feb",
   "metadata": {},
   "source": [
    "The `data/` directory contains \n",
    "\n",
    "* `train_mixture_1m.CSV`: data mixes for 512 small models with 1M parameters\n",
    "* `train_pile_loss_1m.CSV`: evaluation metrics for 512 small models with 1M parameters\n",
    "* `test_mixture_1m.CSV`: data mixes for 256 small models with 1M parameters\n",
    "* `test_pile_loss_1m.CSV`: evaluation metrics for 256 small models with 1M parameters\n",
    "* `test_mixture_60m.CSV`: data mixes for 256 medium models with 60M parameters\n",
    "* `test_pile_loss_60m.CSV`: evaluation metrics for 256 medium models with 60M parameters\n",
    "* `test_mixture_1B.CSV`: data mixes for 64 large models with 1B parameters\n",
    "* `test_pile_loss_1B.CSV`: evaluation metrics for 64 large models with 1B parameters"
   ]
  },
  {
   "cell_type": "code",
   "execution_count": 1,
   "id": "feefd7a4",
   "metadata": {},
   "outputs": [],
   "source": [
    "import pandas as pd\n",
    "train_mixture_1m = pd.read_csv('train_mixture_1m.csv', index_col='index')\n",
    "train_pile_loss_1m = pd.read_csv('train_pile_loss_1m.csv', index_col='index')\n",
    "test_mixture_1m = pd.read_csv('test_mixture_1m.csv', index_col='index')\n",
    "test_pile_loss_1m = pd.read_csv('test_pile_loss_1m.csv', index_col='index')\n",
    "test_mixture_60m = pd.read_csv('test_mixture_60m.csv', index_col='index')\n",
    "test_pile_loss_60m = pd.read_csv('test_pile_loss_60m.csv', index_col='index')\n",
    "test_mixture_1B = pd.read_csv('test_mixture_1B.csv', index_col='index')\n",
    "test_pile_loss_1B = pd.read_csv('test_pile_loss_1B.csv', index_col='index')"
   ]
  },
  {
   "cell_type": "code",
   "execution_count": 6,
   "id": "ead9cfc4",
   "metadata": {},
   "outputs": [
    {
     "name": "stdout",
     "output_type": "stream",
     "text": [
      "['metric/the_pile_arxiv_val_loss', 'metric/the_pile_freelaw_val_loss', 'metric/the_pile_pubmed_central_val_loss', 'metric/the_pile_wikipedia_en_val_loss', 'metric/the_pile_dm_mathematics_val_loss', 'metric/the_pile_github_val_loss', 'metric/the_pile_stackexchange_val_loss', 'metric/the_pile_gutenberg_pg_19_val_loss', 'metric/the_pile_pile_cc_val_loss', 'metric/the_pile_ubuntu_irc_val_loss', 'metric/the_pile_hackernews_val_loss', 'metric/the_pile_pubmed_abstracts_val_loss', 'metric/the_pile_uspto_backgrounds_val_loss']\n"
     ]
    }
   ],
   "source": [
    "metrics = test_pile_loss_1B.columns.tolist()\n",
    "print(metrics)"
   ]
  }
 ],
 "metadata": {
  "kernelspec": {
   "display_name": "hf",
   "language": "python",
   "name": "python3"
  },
  "language_info": {
   "codemirror_mode": {
    "name": "ipython",
    "version": 3
   },
   "file_extension": ".py",
   "mimetype": "text/x-python",
   "name": "python",
   "nbconvert_exporter": "python",
   "pygments_lexer": "ipython3",
   "version": "3.13.2"
  }
 },
 "nbformat": 4,
 "nbformat_minor": 5
}
